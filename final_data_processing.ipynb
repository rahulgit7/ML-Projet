{
  "nbformat": 4,
  "nbformat_minor": 0,
  "metadata": {
    "colab": {
      "provenance": []
    },
    "kernelspec": {
      "name": "python3",
      "display_name": "Python 3"
    },
    "language_info": {
      "name": "python"
    }
  },
  "cells": [
    {
      "cell_type": "code",
      "execution_count": null,
      "metadata": {
        "colab": {
          "base_uri": "https://localhost:8080/"
        },
        "id": "oXubFY_jWgja",
        "outputId": "5254cdfc-3d4b-427c-f12b-3b2b0703185f"
      },
      "outputs": [
        {
          "output_type": "stream",
          "name": "stderr",
          "text": [
            "<ipython-input-4-2c1aedeb60e7>:5: DtypeWarning: Columns (2502) have mixed types. Specify dtype option on import or set low_memory=False.\n",
            "  data = pd.read_csv('NSDUH_2017_Tab.tsv', sep='\\t')\n"
          ]
        },
        {
          "output_type": "stream",
          "name": "stdout",
          "text": [
            "users: 56276  features: 2668\n"
          ]
        }
      ],
      "source": [
        "import pickle\n",
        "import pandas as pd\n",
        "from sklearn.model_selection import train_test_split\n",
        "\n",
        "data = pd.read_csv('NSDUH_2017_Tab.tsv', sep='\\t')\n",
        "print(f'users: {data.shape[0]}  features: {data.shape[1]}')"
      ]
    },
    {
      "cell_type": "code",
      "source": [
        "#substance dataframe - columns from start to KM\n",
        "subs_df = data.iloc[:, :data.columns.get_loc(\"STMNORXFG\")]  #rows, col\n",
        "print(f'rows: {subs_df.shape[0]} columns: {subs_df.shape[1]}')\n",
        "\n",
        "#health dataframe - columns from BJQ to CNS\n",
        "hlth_df = data.iloc[:, data.columns.get_loc(\"PREGNANT\"):data.columns.get_loc(\"YOTMTHLP\")]\n",
        "print(f'rows: {hlth_df.shape[0]} columns: {hlth_df.shape[1]}')\n",
        "\n",
        "#demographic dataframe - columns from CRH to CXF\n",
        "demo_df = data.iloc[:, data.columns.get_loc(\"AGE2\"):data.columns.get_loc(\"POVERTY3\")]\n",
        "print(f'rows: {demo_df.shape[0]} columns: {demo_df.shape[1]}')"
      ],
      "metadata": {
        "id": "l3TYW7rAeTRD",
        "colab": {
          "base_uri": "https://localhost:8080/"
        },
        "outputId": "6ee5a59c-d376-4a25-f8d4-94c494d7f438"
      },
      "execution_count": null,
      "outputs": [
        {
          "output_type": "stream",
          "name": "stdout",
          "text": [
            "rows: 56276 columns: 299\n",
            "rows: 56276 columns: 786\n",
            "rows: 56276 columns: 155\n"
          ]
        }
      ]
    },
    {
      "cell_type": "code",
      "source": [
        "#90% for training 10% for testing\n",
        "subs_train, subs_test, hlth_train, hlth_test, demo_train, demo_test = train_test_split(subs_df, hlth_df, demo_df, test_size=0.1, random_state=1)\n",
        "#11.1111% for validation set and remaining for train set\n",
        "subs_train, subs_val, hlth_train, hlth_val, demo_train, demo_val = train_test_split(subs_train, hlth_train, demo_train, test_size=0.111111, random_state=1)\n",
        "\n",
        "with open('data.pickle', 'wb') as handle:\n",
        "    pickle.dump([subs_train, subs_test, subs_val, hlth_train, hlth_test, hlth_val, demo_train, demo_test, demo_val], handle, protocol=pickle.HIGHEST_PROTOCOL)"
      ],
      "metadata": {
        "id": "csJCY2wN70Cw"
      },
      "execution_count": null,
      "outputs": []
    }
  ]
}